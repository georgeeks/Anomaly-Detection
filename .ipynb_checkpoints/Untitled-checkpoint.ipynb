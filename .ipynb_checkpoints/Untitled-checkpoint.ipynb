{
 "cells": [
  {
   "cell_type": "code",
   "execution_count": 59,
   "metadata": {},
   "outputs": [],
   "source": [
    "import scipy.io\n",
    "import os\n",
    "import numpy as np\n",
    "import pandas as pd\n",
    "\n",
    "current_dir = os.getcwd()\n",
    "data_path = os.path.join(current_dir,'data')\n",
    "mat_files = os.listdir(data_path)"
   ]
  },
  {
   "cell_type": "code",
   "execution_count": 60,
   "metadata": {},
   "outputs": [
    {
     "data": {
      "text/plain": [
       "['arrhythmia.mat',\n",
       " 'cardio.mat',\n",
       " 'glass.mat',\n",
       " 'ionosphere.mat',\n",
       " 'letter.mat',\n",
       " 'lympho.mat',\n",
       " 'mnist.mat',\n",
       " 'musk.mat',\n",
       " 'optdigits.mat',\n",
       " 'satellite.mat',\n",
       " 'vertebral.mat']"
      ]
     },
     "execution_count": 60,
     "metadata": {},
     "output_type": "execute_result"
    }
   ],
   "source": [
    "mat_files"
   ]
  },
  {
   "cell_type": "code",
   "execution_count": 61,
   "metadata": {},
   "outputs": [
    {
     "data": {
      "text/plain": [
       "'ionosphere.mat'"
      ]
     },
     "execution_count": 61,
     "metadata": {},
     "output_type": "execute_result"
    }
   ],
   "source": [
    "m_file = mat_files[3]\n",
    "m_file"
   ]
  },
  {
   "cell_type": "code",
   "execution_count": 62,
   "metadata": {},
   "outputs": [
    {
     "name": "stdout",
     "output_type": "stream",
     "text": [
      "<class 'pandas.core.frame.DataFrame'>\n",
      "RangeIndex: 33 entries, 0 to 32\n",
      "Data columns (total 2 columns):\n",
      " #   Column  Non-Null Count  Dtype  \n",
      "---  ------  --------------  -----  \n",
      " 0   X       33 non-null     float64\n",
      " 1   y       1 non-null      float64\n",
      "dtypes: float64(2)\n",
      "memory usage: 656.0 bytes\n"
     ]
    }
   ],
   "source": [
    "mat_file = os.path.join(data_path, m_file)\n",
    "mat = scipy.io.loadmat(mat_file)\n",
    "mat = {k:v for k, v in mat.items() if k[0] != '_'}\n",
    "data = pd.DataFrame({k: pd.Series(v[0]) for k, v in mat.items()})\n",
    "data.info()"
   ]
  },
  {
   "cell_type": "code",
   "execution_count": 63,
   "metadata": {},
   "outputs": [
    {
     "data": {
      "text/plain": [
       "'D:\\\\Documents\\\\DATA SCIENCE\\\\Anomaly Detection\\\\csv_data\\\\ionosphere.mat.csv'"
      ]
     },
     "execution_count": 63,
     "metadata": {},
     "output_type": "execute_result"
    }
   ],
   "source": [
    "save_path = os.path.join(os.path.join(current_dir, 'csv_data'), f'{m_file}.csv')\n",
    "save_path"
   ]
  },
  {
   "cell_type": "code",
   "execution_count": 64,
   "metadata": {},
   "outputs": [],
   "source": [
    "data.to_csv(save_path, index=False)"
   ]
  },
  {
   "cell_type": "code",
   "execution_count": 71,
   "metadata": {},
   "outputs": [],
   "source": [
    "def convert_mat_to_csv(list):\n",
    "    data_path = os.path.join(current_dir,'data')\n",
    "    for m_file in list:\n",
    "        mat_file = os.path.join(data_path, m_file)\n",
    "        mat = scipy.io.loadmat(mat_file)\n",
    "        mat = {k:v for k, v in mat.items() if k[0] != '_'}\n",
    "        data = pd.DataFrame({k: pd.Series(v[0]) for k, v in mat.items()})\n",
    "        save_path = os.path.join(os.path.join(current_dir, 'csv_data'), f'{m_file}.csv')\n",
    "        data.to_csv(save_path, index = None)\n",
    "\n",
    "mat_data = os.listdir(os.path.join(current_dir,'data'))\n",
    "csv_folder = os.path.join(os.path.join(current_dir, 'csv_data'))\n",
    "if not len(os.listdir(csv_folder)):\n",
    "    convert_mat_to_csv(mat_data)"
   ]
  },
  {
   "cell_type": "code",
   "execution_count": null,
   "metadata": {},
   "outputs": [],
   "source": []
  }
 ],
 "metadata": {
  "kernelspec": {
   "display_name": "Python 3.7.6 64-bit",
   "language": "python",
   "name": "python37664bit37ada254aff44200a986e90d98bf7783"
  },
  "language_info": {
   "codemirror_mode": {
    "name": "ipython",
    "version": 3
   },
   "file_extension": ".py",
   "mimetype": "text/x-python",
   "name": "python",
   "nbconvert_exporter": "python",
   "pygments_lexer": "ipython3",
   "version": "3.7.6"
  }
 },
 "nbformat": 4,
 "nbformat_minor": 4
}
